{
 "cells": [
  {
   "cell_type": "markdown",
   "metadata": {},
   "source": [
    "# Cryptography"
   ]
  },
  {
   "cell_type": "markdown",
   "metadata": {},
   "source": [
    "- It means converting a simple plain text into something which is not understandable easy until some has code. \n",
    "\n",
    "- Cipher Text : A text which is result of encrytion is known as cipher text\n",
    "\n",
    "- Encryption : converting a message to secret message is known as Encryption.\n",
    "\n",
    "- Decryption : converting back the secret message to Normal Message"
   ]
  },
  {
   "cell_type": "markdown",
   "metadata": {},
   "source": [
    "# Write a program which converts Any given Text to Cipher Text and Whenever he is available it should convert it back to Normal Message."
   ]
  },
  {
   "cell_type": "markdown",
   "metadata": {},
   "source": [
    "Step 1 : Which library o use convert normal text to Cipher Text."
   ]
  },
  {
   "cell_type": "markdown",
   "metadata": {},
   "source": [
    "Step 2 : Take input from user and convert into Cipher Text."
   ]
  },
  {
   "cell_type": "markdown",
   "metadata": {},
   "source": [
    "Step 3 : Display back the Cipher Text to User. "
   ]
  },
  {
   "cell_type": "markdown",
   "metadata": {},
   "source": [
    "Step 4 : Load the key and if the key is same based upon the input provided convert into normal Text."
   ]
  },
  {
   "cell_type": "code",
   "execution_count": 1,
   "metadata": {},
   "outputs": [],
   "source": [
    "from cryptography.fernet import Fernet"
   ]
  },
  {
   "cell_type": "code",
   "execution_count": 2,
   "metadata": {},
   "outputs": [
    {
     "name": "stdout",
     "output_type": "stream",
     "text": [
      "Enter the Message That you want to Encrypt\n",
      "Hey guys, How you doing?\n",
      "Encrypted Message is: b'gAAAAABf2K_XJ5tGFzFYGP26paq7H3OlOuCclDXja3GEtrLlQyODUQxCUnwpOImyiFfqSoZvSEd00mfBf-eULfajQeMNGE64IKTbablrCv7XbjAuHMyOgoY='\n"
     ]
    }
   ],
   "source": [
    "#Function To Generating Key\n",
    "def generateKey():\n",
    "    \n",
    "    key = Fernet.generate_key() #For Generating The Key\n",
    "    key_file = open(\"Pass_key\",\"wb\")\n",
    "    key_file.write(key)\n",
    "\n",
    "#Function to load the key \n",
    "def load_key():\n",
    "    return open(\"Pass_key\",\"rb\").read() #For Loading The Key\n",
    "\n",
    "#Function To Encrypt The Key\n",
    "def encrypt_message(message):\n",
    "\n",
    "    generateKey()\n",
    "    key = load_key()\n",
    "    encoded_message = message.encode()\n",
    "    f = Fernet(key)\n",
    "    encrypted_message = f.encrypt(encoded_message)\n",
    "    print(\"Encrypted Message is:\",encrypted_message)\n",
    "    \n",
    "message = input(\"Enter the Message That you want to Encrypt\\n\")\n",
    "encrypt_message(message)"
   ]
  },
  {
   "cell_type": "code",
   "execution_count": 3,
   "metadata": {},
   "outputs": [
    {
     "name": "stdout",
     "output_type": "stream",
     "text": [
      "Decrypted message is: Hey guys, How you doing?\n"
     ]
    }
   ],
   "source": [
    "#Function to Decrypt The Key\n",
    "def  decrypt_message(encrypted_message):\n",
    "    key = load_key()\n",
    "    f = Fernet(key)\n",
    "    decrypted_message = f.decrypt(encrypted_message)\n",
    "    print(\"Decrypted message is:\",decrypted_message.decode())\n",
    "decrypt_message(b'gAAAAABf2K_XJ5tGFzFYGP26paq7H3OlOuCclDXja3GEtrLlQyODUQxCUnwpOImyiFfqSoZvSEd00mfBf-eULfajQeMNGE64IKTbablrCv7XbjAuHMyOgoY=')"
   ]
  },
  {
   "cell_type": "code",
   "execution_count": null,
   "metadata": {},
   "outputs": [],
   "source": []
  }
 ],
 "metadata": {
  "kernelspec": {
   "display_name": "Python 3",
   "language": "python",
   "name": "python3"
  },
  "language_info": {
   "codemirror_mode": {
    "name": "ipython",
    "version": 3
   },
   "file_extension": ".py",
   "mimetype": "text/x-python",
   "name": "python",
   "nbconvert_exporter": "python",
   "pygments_lexer": "ipython3",
   "version": "3.8.5"
  }
 },
 "nbformat": 4,
 "nbformat_minor": 4
}
