{
 "cells": [
  {
   "cell_type": "markdown",
   "metadata": {},
   "source": [
    "# 2.Write a function which can return a list of first Factorial of any numbers,given in the arguement."
   ]
  },
  {
   "cell_type": "code",
   "execution_count": 1,
   "metadata": {},
   "outputs": [
    {
     "name": "stdout",
     "output_type": "stream",
     "text": [
      " Please enter any Number to find factorial : 6\n",
      "The factorial of 6  = 720\n"
     ]
    }
   ],
   "source": [
    "def factorial(num):\n",
    "    fact = 1\n",
    " \n",
    "    for i in range(1, num + 1):\n",
    "        fact = fact * i\n",
    " \n",
    "    return fact\n",
    " \n",
    " \n",
    "number = int(input(\" Please enter any Number to find factorial : \"))\n",
    " \n",
    "facto = factorial(number)\n",
    "print(\"The factorial of %d  = %d\" %(number, facto))"
   ]
  },
  {
   "cell_type": "markdown",
   "metadata": {},
   "source": [
    "# To Return the value :-"
   ]
  },
  {
   "cell_type": "code",
   "execution_count": 6,
   "metadata": {},
   "outputs": [
    {
     "name": "stdout",
     "output_type": "stream",
     "text": [
      "Enter a number: 3\n",
      "The factorial of  3  is : \n",
      "6\n"
     ]
    }
   ],
   "source": [
    "import math\n",
    "num = input(\"Enter a number: \")\n",
    "print(\"The factorial of \", num, \" is : \")\n",
    "print(math.factorial(int(num)))\n"
   ]
  },
  {
   "cell_type": "code",
   "execution_count": null,
   "metadata": {},
   "outputs": [],
   "source": []
  }
 ],
 "metadata": {
  "kernelspec": {
   "display_name": "Python 3",
   "language": "python",
   "name": "python3"
  },
  "language_info": {
   "codemirror_mode": {
    "name": "ipython",
    "version": 3
   },
   "file_extension": ".py",
   "mimetype": "text/x-python",
   "name": "python",
   "nbconvert_exporter": "python",
   "pygments_lexer": "ipython3",
   "version": "3.8.5"
  }
 },
 "nbformat": 4,
 "nbformat_minor": 4
}
